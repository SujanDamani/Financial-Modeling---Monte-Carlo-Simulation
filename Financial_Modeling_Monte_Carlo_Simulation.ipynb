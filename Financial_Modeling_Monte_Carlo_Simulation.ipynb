{
  "nbformat": 4,
  "nbformat_minor": 0,
  "metadata": {
    "colab": {
      "name": "Financial Modeling - Monte Carlo Simulation.ipynb",
      "provenance": [],
      "collapsed_sections": [],
      "authorship_tag": "ABX9TyP9xr08cHEF0GVhiI+mGZEY"
    },
    "kernelspec": {
      "name": "python3",
      "display_name": "Python 3"
    }
  },
  "cells": [
    {
      "cell_type": "markdown",
      "metadata": {
        "id": "wbmn3NYafwMu",
        "colab_type": "text"
      },
      "source": [
        "###Dividend Discount Model or Discounted Cashflow Model\n",
        "$$V_0 = \\frac{D_0(1 + g)}{(1 + r)} + \\frac{D_0(1 + g)^2}{(1 + r)^2} + ... + \\frac{D_0(1 + g)^n}{(1 + r)^n}$$\n",
        "###Gordon Growth Model\n",
        "$$V_0 = \\frac{D_0(1 + g)}{r - g}$$\n"
      ]
    },
    {
      "cell_type": "code",
      "metadata": {
        "id": "6IqSWyfLfoYa",
        "colab_type": "code",
        "colab": {
          "base_uri": "https://localhost:8080/",
          "height": 71
        },
        "outputId": "2e6c842c-4d56-490f-d0d1-63c41c3124bf"
      },
      "source": [
        "import scipy.stats as sct\n",
        "import random\n",
        "from matplotlib import pyplot as plt\n",
        "import numpy as np\n",
        "import seaborn as sns\n"
      ],
      "execution_count": null,
      "outputs": [
        {
          "output_type": "stream",
          "text": [
            "/usr/local/lib/python3.6/dist-packages/statsmodels/tools/_testing.py:19: FutureWarning: pandas.util.testing is deprecated. Use the functions in the public API at pandas.testing instead.\n",
            "  import pandas.util.testing as tm\n"
          ],
          "name": "stderr"
        }
      ]
    },
    {
      "cell_type": "code",
      "metadata": {
        "id": "hJQZBAAaf0ms",
        "colab_type": "code",
        "colab": {
          "base_uri": "https://localhost:8080/",
          "height": 279
        },
        "outputId": "ebb1d773-e902-40d7-962d-50717a74227e"
      },
      "source": [
        "d0 = 100\n",
        "data = []\n",
        "\n",
        "for x in range(10000):\n",
        "    g = random.uniform(0.05,0.08)\n",
        "    r = random.uniform(0.09,0.10)\n",
        "    d1 = d0*(1+g)\n",
        "    v0 = d1/(r-g)\n",
        "    data.append(v0)\n",
        "    \n",
        "sns.distplot(data)\n",
        "plt.ylabel('Frequency')\n",
        "plt.xlabel('Market Value');"
      ],
      "execution_count": null,
      "outputs": [
        {
          "output_type": "display_data",
          "data": {
            "image/png": "[encoded data removed]",
            "text/plain": [
              "<Figure size 432x288 with 1 Axes>"
            ]
          },
          "metadata": {
            "tags": [],
            "needs_background": "light"
          }
        }
      ]
    },
    {
      "cell_type": "code",
      "metadata": {
        "id": "bGmFnee_gAj3",
        "colab_type": "code",
        "colab": {
          "base_uri": "https://localhost:8080/",
          "height": 1000
        },
        "outputId": "cce1f3f8-8b6a-48a0-b987-b32cd6108d9d"
      },
      "source": [
        "data\n"
      ],
      "execution_count": null,
      "outputs": [
        {
          "output_type": "execute_result",
          "data": {
            "text/plain": [
              "[2490.2873338608333,\n",
              " 5885.031184379368,\n",
              " 2406.3118584027493,\n",
              " 4332.849780179714,\n",
              " 5270.564520878985,\n",
              " 4424.649952179841,\n",
              " 2439.4725234285706,\n",
              " 3387.0565090192276,\n",
              " 2617.201881443276,\n",
              " 4281.485438704022,\n",
              " 4775.813239675963,\n",
              " 4067.6216446561098,\n",
              " 2734.299149612976,\n",
              " 4495.02085030952,\n",
              " 4375.882055247906,\n",
              " 3075.4168389643855,\n",
              " 2692.5194773341937,\n",
              " 2739.0852366902277,\n",
              " 3038.5073337443905,\n",
              " 6478.286331753127,\n",
              " 2304.872496226944,\n",
              " 3992.832721402786,\n",
              " 3794.1696461721212,\n",
              " 2689.2749870882562,\n",
              " 2631.1554159283946,\n",
              " 3652.7747931363047,\n",
              " 5642.855143623039,\n",
              " 4426.155203016892,\n",
              " 5671.974231962049,\n",
              " 2800.999945681776,\n",
              " 2858.1883127583137,\n",
              " 3916.908901377078,\n",
              " 2840.6623083091317,\n",
              " 2477.171293802858,\n",
              " 2683.5512916842017,\n",
              " 4382.0207584740565,\n",
              " 3530.003629149131,\n",
              " 3883.680502398049,\n",
              " 2327.9134035157886,\n",
              " 3003.578352385129,\n",
              " 4094.949327285129,\n",
              " 3214.4961552667787,\n",
              " 2486.577354116337,\n",
              " 3073.796294449019,\n",
              " 3724.4139505937646,\n",
              " 4656.846789695673,\n",
              " 5411.384158369765,\n",
              " 3308.1833284267896,\n",
              " 4109.193882154823,\n",
              " 2477.409283049308,\n",
              " 7625.78229967863,\n",
              " 3641.8602700161464,\n",
              " 3291.88677668335,\n",
              " 2904.2133783022387,\n",
              " 2510.051535828716,\n",
              " 6144.365749482943,\n",
              " 5352.334773811234,\n",
              " 2763.3646998130903,\n",
              " 7285.356936821881,\n",
              " 2679.504326158297,\n",
              " 3253.915343840321,\n",
              " 4254.442677948938,\n",
              " 2879.116755534095,\n",
              " 2392.7759858947247,\n",
              " 6609.73097825941,\n",
              " 3325.295785763169,\n",
              " 4022.873534746448,\n",
              " 3717.2236229688656,\n",
              " 4606.710072441635,\n",
              " 2853.621987925484,\n",
              " 2624.3540431412007,\n",
              " 2227.4115040283064,\n",
              " 4810.801099072686,\n",
              " 2372.5755924876657,\n",
              " 2385.0255009577936,\n",
              " 7225.755645313798,\n",
              " 3511.789236756118,\n",
              " 3077.891440595318,\n",
              " 6971.506299797675,\n",
              " 8293.931133057442,\n",
              " 2570.23030074431,\n",
              " 2480.5167677697636,\n",
              " 3874.1945061498354,\n",
              " 4232.371290312377,\n",
              " 4090.315105680177,\n",
              " 5294.12309391377,\n",
              " 4013.1292240605476,\n",
              " 3183.9542557609266,\n",
              " 4587.1359716385905,\n",
              " 2785.6786826873877,\n",
              " 2989.7168014862596,\n",
              " 2605.276739489505,\n",
              " 3682.2459446467865,\n",
              " 2178.892076395518,\n",
              " 2782.313078707045,\n",
              " 3153.2493579479546,\n",
              " 4019.191875205274,\n",
              " 2455.416297264123,\n",
              " 3843.613826832381,\n",
              " 2376.1050321809994,\n",
              " 7278.064442914558,\n",
              " 2634.8118555387,\n",
              " 2354.646271273317,\n",
              " 8529.705544581628,\n",
              " 2949.6982989227995,\n",
              " 2694.5235730745953,\n",
              " 4130.2451741092445,\n",
              " 4570.793872902028,\n",
              " 3509.7246203377354,\n",
              " 2923.6909602702144,\n",
              " 2611.0674479238282,\n",
              " 2854.1251027682956,\n",
              " 5253.715782095342,\n",
              " 3443.3212009316253,\n",
              " 2996.283792630087,\n",
              " 2983.4407601279054,\n",
              " 3357.826037576551,\n",
              " 6841.3152278296975,\n",
              " 5695.704554798654,\n",
              " 3213.518276005148,\n",
              " 3682.5224298601365,\n",
              " 3417.9479987101904,\n",
              " 6480.249861307238,\n",
              " 4292.457051557255,\n",
              " 2330.5063487539437,\n",
              " 4918.7120658215135,\n",
              " 2929.529434363335,\n",
              " 4597.514923249819,\n",
              " 2446.9745657302715,\n",
              " 2608.1434099955864,\n",
              " 6810.047858066689,\n",
              " 3564.324266863034,\n",
              " 3201.0410452010137,\n",
              " 3263.299615089606,\n",
              " 7581.326420837125,\n",
              " 3258.0168415309995,\n",
              " 2999.373844967791,\n",
              " 2889.4335307290644,\n",
              " 6692.2477996967145,\n",
              " 2717.3367573734986,\n",
              " 4675.142070902651,\n",
              " 6710.753753115804,\n",
              " 2570.402073751533,\n",
              " 3236.368742689931,\n",
              " 2399.6986939231183,\n",
              " 5100.962028273566,\n",
              " 2910.990703572123,\n",
              " 3262.878576687485,\n",
              " 3827.17352846301,\n",
              " 3864.1226853878466,\n",
              " 3078.622777420267,\n",
              " 2431.453289288332,\n",
              " 2421.9935460507,\n",
              " 6297.18495326774,\n",
              " 2532.604636032572,\n",
              " 4484.568461353615,\n",
              " 2558.92842007128,\n",
              " 6937.817125200364,\n",
              " 3714.051873051613,\n",
              " 6020.53661285511,\n",
              " 2667.5893797624544,\n",
              " 2485.4265793284835,\n",
              " 3252.3551099511133,\n",
              " 3337.264711447268,\n",
              " 4561.606410590434,\n",
              " 4130.534304729152,\n",
              " 3410.328051459013,\n",
              " 3361.111796130898,\n",
              " 2292.9037929279375,\n",
              " 3354.2172511561594,\n",
              " 4864.003407960409,\n",
              " 3721.0595011886703,\n",
              " 4308.7416399693375,\n",
              " 2396.22793324447,\n",
              " 3607.144632243315,\n",
              " 3124.098051209934,\n",
              " 2625.4637127318097,\n",
              " 3559.820798279935,\n",
              " 3397.8727029090414,\n",
              " 4303.69517667245,\n",
              " 3271.3959788683387,\n",
              " 5641.446373014586,\n",
              " 4003.278369544432,\n",
              " 3717.16791837338,\n",
              " 6037.17623294562,\n",
              " 3151.9987733891026,\n",
              " 2389.7127346842535,\n",
              " 3770.1173509668492,\n",
              " 2751.2658664056,\n",
              " 5608.146463671156,\n",
              " 3305.3336876772755,\n",
              " 4078.7236741654997,\n",
              " 4348.241216282634,\n",
              " 4825.272494832864,\n",
              " 5238.269609378851,\n",
              " 2687.9842512937735,\n",
              " 6907.375644243624,\n",
              " 2799.006625984392,\n",
              " 4326.6012594576405,\n",
              " 4536.742666553188,\n",
              " 6110.59886206898,\n",
              " 8347.773349509176,\n",
              " 3059.36824562793,\n",
              " 2735.8193974698584,\n",
              " 8489.195275926117,\n",
              " 2391.086474745308,\n",
              " 3267.21328713055,\n",
              " 2554.977718400977,\n",
              " 4063.3282712862797,\n",
              " 5609.231144666486,\n",
              " 3015.1366476263424,\n",
              " 2758.472235866393,\n",
              " 2709.390095444092,\n",
              " 2857.8826746436703,\n",
              " 2648.2898021962637,\n",
              " 7161.29580364482,\n",
              " 2614.8956921012355,\n",
              " 5088.060330023616,\n",
              " 5470.576766268561,\n",
              " 2502.0064506250824,\n",
              " 4288.617417253161,\n",
              " 6622.211901171992,\n",
              " 4264.565848931641,\n",
              " 2693.579836889566,\n",
              " 8358.712191685838,\n",
              " 4559.45803148285,\n",
              " 2880.688791650792,\n",
              " 3698.311044285877,\n",
              " 3508.765807836511,\n",
              " 3279.6569191321755,\n",
              " 4687.344564315293,\n",
              " 4376.171027159984,\n",
              " 2834.416510784145,\n",
              " 4199.402316694289,\n",
              " 4804.838543155225,\n",
              " 3745.5917128918636,\n",
              " 5475.692340202456,\n",
              " 2253.223926857364,\n",
              " 3872.3292947339837,\n",
              " 4517.81712805793,\n",
              " 2399.5036045136003,\n",
              " 3387.1231994606446,\n",
              " 3343.3017174749184,\n",
              " 3347.7770076964844,\n",
              " 4520.75738607275,\n",
              " 5769.53990053946,\n",
              " 2357.697075492128,\n",
              " 3491.431261162994,\n",
              " 3475.4725397735697,\n",
              " 4431.842990271914,\n",
              " 4581.976028464266,\n",
              " 2556.4524525316606,\n",
              " 3160.2201342865546,\n",
              " 4826.987415543781,\n",
              " 3255.9459349636622,\n",
              " 2483.046134248511,\n",
              " 5243.248992689538,\n",
              " 4971.675611849401,\n",
              " 3586.8119729757605,\n",
              " 5412.547948893013,\n",
              " 2738.11765518881,\n",
              " 3133.3947664528423,\n",
              " 3182.340898592713,\n",
              " 2232.6706369561593,\n",
              " 3309.2296114185274,\n",
              " 6167.141689269664,\n",
              " 4928.937418489597,\n",
              " 2662.462698887139,\n",
              " 3586.173464569832,\n",
              " 5119.247218263301,\n",
              " 4041.5681209020213,\n",
              " 6078.128071317777,\n",
              " 2824.3333329494394,\n",
              " 2620.702292555545,\n",
              " 2963.8994564182117,\n",
              " 3591.469914992902,\n",
              " 2912.6011137551327,\n",
              " 6024.724839590597,\n",
              " 6800.002455471787,\n",
              " 2223.085435813459,\n",
              " 4309.271057903488,\n",
              " 3339.5366153119876,\n",
              " 3636.161365227159,\n",
              " 2628.068627330883,\n",
              " 4164.425904997754,\n",
              " 5358.347193450375,\n",
              " 4441.709182316511,\n",
              " 2573.0891380200846,\n",
              " 6556.4038396640135,\n",
              " 2817.349767288545,\n",
              " 2443.4175403262866,\n",
              " 3203.3737956270434,\n",
              " 3115.9857735788905,\n",
              " 2947.103864678632,\n",
              " 8596.743592340803,\n",
              " 2759.098506660717,\n",
              " 2122.590842728338,\n",
              " 3257.276560950651,\n",
              " 3619.5833632644917,\n",
              " 3080.14667772836,\n",
              " 3463.0915309016486,\n",
              " 3185.854833818366,\n",
              " 3794.648440535282,\n",
              " 3083.13883159629,\n",
              " 2759.762898684717,\n",
              " 5266.278678002694,\n",
              " 3800.259539402381,\n",
              " 7797.761290754497,\n",
              " 2699.164222029822,\n",
              " 4702.16950319798,\n",
              " 2692.7666124836437,\n",
              " 9171.474528516886,\n",
              " 3824.8491761450296,\n",
              " 3281.505841459412,\n",
              " 3054.6051039678932,\n",
              " 2449.662681621463,\n",
              " 4285.561510496401,\n",
              " 2570.8469375377886,\n",
              " 4373.295578110028,\n",
              " 4036.166792766606,\n",
              " 2778.272109506181,\n",
              " 6487.432888851967,\n",
              " 6083.967097871599,\n",
              " 5382.943003684418,\n",
              " 4162.6575427365815,\n",
              " 4909.726589174172,\n",
              " 2673.943434448765,\n",
              " 2303.8323361786397,\n",
              " 7046.419683316537,\n",
              " 2248.6012077785754,\n",
              " 5664.4559996901,\n",
              " 2498.287021543278,\n",
              " 3866.703347224365,\n",
              " 2316.4575714786065,\n",
              " 3998.476392055472,\n",
              " 3159.13974360173,\n",
              " 9821.779889303574,\n",
              " 2359.8655073975574,\n",
              " 4696.3904843608625,\n",
              " 4835.833749034027,\n",
              " 5214.97896076282,\n",
              " 2337.8540960891014,\n",
              " 4945.651511691823,\n",
              " 2620.2181604341145,\n",
              " 6020.037051523098,\n",
              " 2386.2680454359993,\n",
              " 2598.2492711494915,\n",
              " 2987.24987284983,\n",
              " 4865.2595560308,\n",
              " 4035.1016678747724,\n",
              " 4662.1925798632465,\n",
              " 3111.1228734640354,\n",
              " 5220.428748409734,\n",
              " 5518.746836130674,\n",
              " 6371.119150601338,\n",
              " 5707.346950335464,\n",
              " 6287.480693799924,\n",
              " 4146.590996779616,\n",
              " 2591.3121626629695,\n",
              " 4751.973449469181,\n",
              " 4270.683940476888,\n",
              " 2479.3276120130854,\n",
              " 2952.868573978512,\n",
              " 2732.4580319320385,\n",
              " 5728.235112109562,\n",
              " 4954.776223531209,\n",
              " 2427.5248518199664,\n",
              " 4614.67912510448,\n",
              " 7715.010605321225,\n",
              " 4318.785467611421,\n",
              " 4868.989947328462,\n",
              " 5108.744204512819,\n",
              " 8655.416193313478,\n",
              " 2689.989512150458,\n",
              " 5561.563341571005,\n",
              " 7595.06686022066,\n",
              " 6374.428712151082,\n",
              " 4360.420244227692,\n",
              " 2717.645966255448,\n",
              " 7171.655666495033,\n",
              " 3768.014487919942,\n",
              " 2571.3598145761753,\n",
              " 5450.294930631091,\n",
              " 5277.316755949557,\n",
              " 6820.874132309286,\n",
              " 2635.4245810049892,\n",
              " 3683.7259580687796,\n",
              " 2736.397769948258,\n",
              " 6677.392576201837,\n",
              " 3524.2362028241087,\n",
              " 3714.5989020316138,\n",
              " 2718.0351642009427,\n",
              " 4760.145741007971,\n",
              " 4223.8461515370755,\n",
              " 2941.2157744093856,\n",
              " 3826.8530916213817,\n",
              " 3024.8787643625847,\n",
              " 4219.733711381118,\n",
              " 3359.9124349231165,\n",
              " 2334.957994415554,\n",
              " 3855.1509412087958,\n",
              " 3440.0308472147854,\n",
              " 2855.816930123398,\n",
              " 2367.252969931673,\n",
              " 3161.2225543554005,\n",
              " 3265.5275526840333,\n",
              " 2873.765654830949,\n",
              " 2437.348032962992,\n",
              " 3702.252991130705,\n",
              " 8132.13282730853,\n",
              " 2305.503043809011,\n",
              " 3099.3901357861337,\n",
              " 3684.9862504416583,\n",
              " 2676.50098080426,\n",
              " 4536.7479943735825,\n",
              " 3304.6203710787267,\n",
              " 2403.3501983133974,\n",
              " 7308.704077652523,\n",
              " 4338.6825080871495,\n",
              " 6848.178792492221,\n",
              " 4802.923693437626,\n",
              " 3811.5139798575733,\n",
              " 4027.370438435899,\n",
              " 3199.5830362431525,\n",
              " 3598.6420452045713,\n",
              " 3055.723043222778,\n",
              " 2546.8711880716123,\n",
              " 2854.3850248811264,\n",
              " 2721.489567847133,\n",
              " 5126.827273130938,\n",
              " 2309.705371723566,\n",
              " 7387.515998481596,\n",
              " 2629.6652517561097,\n",
              " 2187.077287507546,\n",
              " 4151.404808389349,\n",
              " 2837.2644842828536,\n",
              " 2352.9793461147638,\n",
              " 3722.412501128351,\n",
              " 2483.587314026549,\n",
              " 5077.5398632490205,\n",
              " 2934.5656522344866,\n",
              " 3635.0993735187326,\n",
              " 3809.9254509280513,\n",
              " 2854.5664545166046,\n",
              " 2657.9419079467334,\n",
              " 8022.432815810676,\n",
              " 3641.8175009464944,\n",
              " 3047.691314750115,\n",
              " 2452.5318020038344,\n",
              " 5133.441827607856,\n",
              " 3846.441752810497,\n",
              " 7468.563953273215,\n",
              " 6109.212907806533,\n",
              " 4518.3200331241615,\n",
              " 2941.199573089056,\n",
              " 2138.0054375156055,\n",
              " 5592.666399687159,\n",
              " 6729.662136985507,\n",
              " 2593.2485228503087,\n",
              " 6647.879959736538,\n",
              " 6642.3947238444625,\n",
              " 4954.265851417811,\n",
              " 4480.390134979829,\n",
              " 5844.7227825256505,\n",
              " 3277.5215407857017,\n",
              " 4781.317069072505,\n",
              " 3042.8543872502723,\n",
              " 5501.310996067345,\n",
              " 2537.2335312737187,\n",
              " 5336.115870291628,\n",
              " 2285.158218309289,\n",
              " 3473.3392092430945,\n",
              " 2556.632355765798,\n",
              " 3475.2817237322383,\n",
              " 3763.2847012422244,\n",
              " 5308.375931092811,\n",
              " 6064.645377784814,\n",
              " 3415.2182426914187,\n",
              " 3102.8223445005556,\n",
              " 3236.970871760619,\n",
              " 7331.208653682347,\n",
              " 2681.3103360144023,\n",
              " 6306.090878830532,\n",
              " 5545.276050422428,\n",
              " 4497.694114067216,\n",
              " 4226.278970809651,\n",
              " 4995.679044591503,\n",
              " 5817.842830090579,\n",
              " 2714.96124483496,\n",
              " 3727.8035153235433,\n",
              " 2436.765439303307,\n",
              " 2725.458938995393,\n",
              " 6299.48125937493,\n",
              " 3669.6352520697674,\n",
              " 4361.226965366584,\n",
              " 2581.6713688001046,\n",
              " 4404.768772474502,\n",
              " 3042.85823799476,\n",
              " 6142.014665914283,\n",
              " 6462.5249631501,\n",
              " 3574.133082191206,\n",
              " 3384.8800781563696,\n",
              " 4866.621114447351,\n",
              " 3612.567674910013,\n",
              " 2822.757482410875,\n",
              " 2885.7635747829477,\n",
              " 2785.904464604532,\n",
              " 3770.902608273575,\n",
              " 2595.764478302016,\n",
              " 2654.0713320705904,\n",
              " 4202.897289417869,\n",
              " 5700.252360782155,\n",
              " 2850.5251575751513,\n",
              " 2520.880461137548,\n",
              " 5029.9983835933945,\n",
              " 4101.564455822572,\n",
              " 3406.8160862600885,\n",
              " 3681.9428025608768,\n",
              " 6806.552588134967,\n",
              " 6126.991208945948,\n",
              " 2281.3040442523534,\n",
              " 3634.975692227324,\n",
              " 3144.534039830595,\n",
              " 2784.627637655586,\n",
              " 2582.916768967685,\n",
              " 2518.6807060862316,\n",
              " 2512.806179809196,\n",
              " 2683.0118072849905,\n",
              " 7269.130860003674,\n",
              " 4677.9934948214,\n",
              " 5239.2863381246025,\n",
              " 2487.556372397073,\n",
              " 2899.1824505285226,\n",
              " 4320.710926444589,\n",
              " 2817.7058792206944,\n",
              " 4536.772772791126,\n",
              " 2178.7851053760987,\n",
              " 5417.339830783073,\n",
              " 8024.708605375015,\n",
              " 2221.748684874646,\n",
              " 3490.0822002927334,\n",
              " 10359.510545702979,\n",
              " 4474.8532706976175,\n",
              " 2882.4712604730435,\n",
              " 2618.501954023176,\n",
              " 4918.554607840732,\n",
              " 5356.403399742989,\n",
              " 3261.64549152503,\n",
              " 4414.5314149718415,\n",
              " 4953.992721376742,\n",
              " 5706.807922545329,\n",
              " 2686.891555398889,\n",
              " 4718.133744339554,\n",
              " 3759.9112855818744,\n",
              " 3995.8577932619364,\n",
              " 3768.429276746953,\n",
              " 2133.29071778807,\n",
              " 6658.363509140692,\n",
              " 6578.064927236966,\n",
              " 3744.016714420966,\n",
              " 4229.157673581095,\n",
              " 2205.8882603287543,\n",
              " 3045.225182089115,\n",
              " 5235.82908094721,\n",
              " 4494.80678949873,\n",
              " 2637.016368027747,\n",
              " 3011.3577472649845,\n",
              " 3123.1745919913915,\n",
              " 3020.0448024398506,\n",
              " 3690.044780069948,\n",
              " 2779.792337061312,\n",
              " 9159.492411944158,\n",
              " 3603.403152094274,\n",
              " 3689.709177061988,\n",
              " 2527.329078656837,\n",
              " 3520.144278044316,\n",
              " 3128.4595650666934,\n",
              " 4813.512603749691,\n",
              " 2823.0905680846295,\n",
              " 2913.1294930014983,\n",
              " 4512.433820729738,\n",
              " 2892.0489660131316,\n",
              " 2552.8651394548265,\n",
              " 2716.510732513491,\n",
              " 3230.7908181632993,\n",
              " 3746.8587434826973,\n",
              " 3129.6886543118735,\n",
              " 2910.73328688783,\n",
              " 3372.3385304606695,\n",
              " 3438.3800361864187,\n",
              " 2768.7985441016854,\n",
              " 6085.855431459364,\n",
              " 3265.580753363804,\n",
              " 4934.084828279152,\n",
              " 5092.077449984898,\n",
              " 7374.820527887798,\n",
              " 4182.772289759965,\n",
              " 4833.384250356031,\n",
              " 2873.797804916619,\n",
              " 4457.493125919086,\n",
              " 6849.10612922907,\n",
              " 4401.580004823439,\n",
              " 2786.2248462968605,\n",
              " 3459.146024041779,\n",
              " 2600.461864799173,\n",
              " 8109.172984725702,\n",
              " 4297.052097028334,\n",
              " 3871.6904135640216,\n",
              " 4632.1647631362675,\n",
              " 2603.598189452172,\n",
              " 4853.619596006763,\n",
              " 2294.3235072625403,\n",
              " 5475.896518353988,\n",
              " 6617.203779680555,\n",
              " 2490.5879105137155,\n",
              " 6168.797796555726,\n",
              " 4252.145635309423,\n",
              " 2805.025021107143,\n",
              " 3349.499419061797,\n",
              " 2237.035646361874,\n",
              " 2667.5196848657915,\n",
              " 2431.747509118385,\n",
              " 2826.1689563321993,\n",
              " 2362.6620399795793,\n",
              " 3393.732847170966,\n",
              " 5542.395074564404,\n",
              " 5028.551384737502,\n",
              " 3684.7558889862944,\n",
              " 4346.183209250181,\n",
              " 3076.4133283453175,\n",
              " 3220.863196243524,\n",
              " 3099.872295311442,\n",
              " 6268.579097393093,\n",
              " 4214.668215569309,\n",
              " 5376.768949460185,\n",
              " 3443.1676667308834,\n",
              " 2520.1088402443465,\n",
              " 2197.3343023886628,\n",
              " 3566.6351003600066,\n",
              " 2992.957577234144,\n",
              " 3378.109524827749,\n",
              " 9888.718355280518,\n",
              " 6778.451792358558,\n",
              " 2598.956239901959,\n",
              " 3926.192062915168,\n",
              " 3436.111700611345,\n",
              " 2608.7114778793507,\n",
              " 3012.021849103547,\n",
              " 2876.8495977240987,\n",
              " 3131.8592056719867,\n",
              " 3385.7392470786685,\n",
              " 2372.9338360243937,\n",
              " 6718.048006157623,\n",
              " 3098.7653384529917,\n",
              " 3152.43407176833,\n",
              " 2767.854065399783,\n",
              " 2365.336622427378,\n",
              " 2644.926217071398,\n",
              " 3513.792718030385,\n",
              " 2535.564191763919,\n",
              " 6327.7175974577,\n",
              " 5433.389747722142,\n",
              " 2913.3087088916095,\n",
              " 4304.405450705253,\n",
              " 5274.005733032392,\n",
              " 2149.313142906914,\n",
              " 4838.247584677135,\n",
              " 2910.4143530202905,\n",
              " 2904.366461559639,\n",
              " 2830.020932310666,\n",
              " 4487.281267023173,\n",
              " 4836.831200401473,\n",
              " 3573.1286555396496,\n",
              " 4542.52445022983,\n",
              " 5747.532786971529,\n",
              " 3720.623339889107,\n",
              " 7003.9490283043815,\n",
              " 2357.039320442336,\n",
              " 2200.2165149446805,\n",
              " 3199.5292231975973,\n",
              " 2382.304975449754,\n",
              " 2697.995916204201,\n",
              " 2986.640236072846,\n",
              " 3525.8751549748663,\n",
              " 2670.1168529556144,\n",
              " 2447.07725594343,\n",
              " 5237.170793068816,\n",
              " 5279.918636223955,\n",
              " 4616.1741683815135,\n",
              " 3750.9475810001036,\n",
              " 2669.0947071370015,\n",
              " 2716.566759412653,\n",
              " 3899.7957500261114,\n",
              " 2647.34094413147,\n",
              " 5017.454950779271,\n",
              " 3493.988749538823,\n",
              " 4226.485781349788,\n",
              " 4340.656924519319,\n",
              " 4189.536728322666,\n",
              " 3108.229198419335,\n",
              " 2662.3522541879456,\n",
              " 3184.5767675366874,\n",
              " 2937.5668399011097,\n",
              " 3928.702168545966,\n",
              " 3354.580207729011,\n",
              " 3065.0312965533785,\n",
              " 4168.986896007529,\n",
              " 5462.092362324319,\n",
              " 4583.938657916132,\n",
              " 4492.355604877961,\n",
              " 2201.78461925836,\n",
              " 3705.7146941088636,\n",
              " 3970.1569486484973,\n",
              " 5155.496773052248,\n",
              " 3674.0818055534055,\n",
              " 2325.379848134119,\n",
              " 3974.765998558121,\n",
              " 4252.108210302079,\n",
              " 4549.910434453281,\n",
              " 3408.0957364035953,\n",
              " 3076.3219291625146,\n",
              " 2790.370510474056,\n",
              " 2552.9938039711515,\n",
              " 3781.7893243318626,\n",
              " 2373.5909791894223,\n",
              " 4681.946657649002,\n",
              " 2969.6056991968762,\n",
              " 2649.9638400143913,\n",
              " 5888.839587302847,\n",
              " 6010.707815887742,\n",
              " 3078.8916718448727,\n",
              " 3295.210453709653,\n",
              " 3181.54181653626,\n",
              " 2929.1956615682684,\n",
              " 3734.799173089985,\n",
              " 4805.393263480169,\n",
              " 3420.651236225598,\n",
              " 2112.9853327952296,\n",
              " 3622.548358622633,\n",
              " 2652.7250225512325,\n",
              " 2521.9633128009264,\n",
              " 2655.959807854924,\n",
              " 3122.1289627720507,\n",
              " 5696.019049532053,\n",
              " 3608.8485238286794,\n",
              " 3285.5700888782226,\n",
              " 3759.820176844656,\n",
              " 5892.927372909481,\n",
              " 3591.698378515118,\n",
              " 2443.6523137554914,\n",
              " 2790.995211960944,\n",
              " 3912.8743405733117,\n",
              " 4150.0034842794,\n",
              " 3683.436732639373,\n",
              " 5525.446690745516,\n",
              " 5454.833801155462,\n",
              " 2748.1720109675284,\n",
              " 2573.346782550727,\n",
              " 5477.542785752104,\n",
              " 2293.1438083679027,\n",
              " 2735.097218491508,\n",
              " 2762.753860886753,\n",
              " 2845.581940741263,\n",
              " 4664.216521627381,\n",
              " 5349.581088911201,\n",
              " 3727.703951440387,\n",
              " 3075.5582257389337,\n",
              " 3599.4097626119324,\n",
              " 7790.890833114614,\n",
              " 2215.9676877930333,\n",
              " 3615.338778896014,\n",
              " 2468.1411942783648,\n",
              " 3361.628346761152,\n",
              " 3667.407057613445,\n",
              " 7353.201039848828,\n",
              " 8683.482490304097,\n",
              " 2951.4971347479814,\n",
              " 4317.070041951269,\n",
              " 4651.267080529124,\n",
              " 4620.512576333958,\n",
              " 3477.0708896094006,\n",
              " 3249.7713022950275,\n",
              " 2283.3204752947395,\n",
              " 6547.16356897846,\n",
              " 2523.293167096146,\n",
              " 2802.3156604501755,\n",
              " 5581.911723494874,\n",
              " 3077.228001717247,\n",
              " 2272.8322917028295,\n",
              " 4889.282252562448,\n",
              " 3557.3803962438174,\n",
              " 2802.8794288826653,\n",
              " 2779.4768507942795,\n",
              " 2443.235330558652,\n",
              " 5095.525770504465,\n",
              " 3003.2694682805077,\n",
              " 4099.989074246173,\n",
              " 7850.254193481792,\n",
              " 3593.9657974406596,\n",
              " 2580.0850201039457,\n",
              " 2679.657913523312,\n",
              " 3306.56289440922,\n",
              " 3855.0378421589403,\n",
              " 2586.334653126641,\n",
              " 3697.1620379060773,\n",
              " 5262.399575422452,\n",
              " 3033.035419293776,\n",
              " 2272.4056070787283,\n",
              " 6669.785086941676,\n",
              " 6824.280641629036,\n",
              " 4187.0619845712945,\n",
              " 4255.4390255807575,\n",
              " 4064.901887782358,\n",
              " 5969.347434605506,\n",
              " 3314.3117351764945,\n",
              " 3305.6551386436263,\n",
              " 2491.1321170544484,\n",
              " 2548.066918468505,\n",
              " 4923.507291543057,\n",
              " 2379.52024132261,\n",
              " 4883.65134566635,\n",
              " 9842.983786228098,\n",
              " 2275.081537852596,\n",
              " 2616.674545536087,\n",
              " 4693.549366578991,\n",
              " 2451.571362630143,\n",
              " 3502.443480906304,\n",
              " 3739.955610737349,\n",
              " 3819.520665470509,\n",
              " 7695.853016131145,\n",
              " 3696.9215390678905,\n",
              " 3651.8070719706798,\n",
              " 4342.990115091258,\n",
              " 3003.970740212127,\n",
              " 2423.826476764429,\n",
              " 2898.816286444047,\n",
              " 5381.618553203723,\n",
              " 3103.5364378017357,\n",
              " 8467.976499911647,\n",
              " 5531.928234947372,\n",
              " 2308.832422130492,\n",
              " 4733.330177555324,\n",
              " 3596.8066535408598,\n",
              " 3695.8729759148605,\n",
              " 3200.2923417915786,\n",
              " 2933.9966402229998,\n",
              " 5649.929473559841,\n",
              " 2748.336600118193,\n",
              " 2789.6191744914704,\n",
              " 2382.0155790829194,\n",
              " 5434.53349579224,\n",
              " 4006.516214277694,\n",
              " 3774.83878956445,\n",
              " 2704.9426337343557,\n",
              " 7499.64617032045,\n",
              " 5958.4291972352,\n",
              " 3546.6314438601016,\n",
              " 2736.3934597446046,\n",
              " 2931.4861093083337,\n",
              " 3072.4885365618475,\n",
              " 4372.191563065225,\n",
              " 5346.788112170977,\n",
              " 4299.783445451227,\n",
              " 2485.3488895581454,\n",
              " 5626.5807507751,\n",
              " 3317.5250666505085,\n",
              " 6006.066899071759,\n",
              " 2886.9359312939205,\n",
              " 2509.459431684045,\n",
              " 2763.3900585647784,\n",
              " 2394.0093423132507,\n",
              " 3666.5808158451737,\n",
              " 5892.338901396924,\n",
              " 2911.8600492016403,\n",
              " 3557.2171559882445,\n",
              " 2769.5185009540814,\n",
              " 4563.323334453168,\n",
              " 3029.374847622092,\n",
              " 2772.6142527611396,\n",
              " 5672.609931369118,\n",
              " 3752.8166188733144,\n",
              " 3453.108486310595,\n",
              " 4019.7033283401865,\n",
              " 2545.906867783761,\n",
              " 4287.982777670461,\n",
              " 8240.537581805334,\n",
              " 2640.80577456922,\n",
              " 2949.0887167122323,\n",
              " 3405.276083384128,\n",
              " 4824.595311879378,\n",
              " 3061.3031846669305,\n",
              " 5137.976547530577,\n",
              " 7014.721503238711,\n",
              " 4054.655202076608,\n",
              " 6186.382511915518,\n",
              " 5360.980620851501,\n",
              " 5289.161782659131,\n",
              " 6840.776498249078,\n",
              " 5581.156671051427,\n",
              " 5322.023019530391,\n",
              " 2363.4190070380914,\n",
              " 2330.219878966273,\n",
              " 2791.6440182586516,\n",
              " 2843.5874542583592,\n",
              " 3975.7267536200034,\n",
              " 6629.415015711979,\n",
              " 5352.606472996958,\n",
              " 3447.421798068636,\n",
              " 6926.429990888597,\n",
              " 5580.686605197428,\n",
              " 6193.59064328771,\n",
              " 3438.4528316996534,\n",
              " 3117.181607748991,\n",
              " 8175.454999195948,\n",
              " 2794.386088239706,\n",
              " 2629.5405813002503,\n",
              " 2718.368206719813,\n",
              " 2173.714975641219,\n",
              " 3058.8988631270786,\n",
              " 2124.0766234210755,\n",
              " 3347.9521034716963,\n",
              " 5366.915691014891,\n",
              " 2756.816432439204,\n",
              " 4843.360973200349,\n",
              " 2610.5577096238053,\n",
              " 3897.944835579329,\n",
              " 2155.662809554125,\n",
              " 2383.0388846242768,\n",
              " 2334.3345642686145,\n",
              " 2186.110112334695,\n",
              " 2539.7727256966905,\n",
              " 2349.911433755523,\n",
              " 2313.2491545374787,\n",
              " 2468.8222085402713,\n",
              " 2572.8127312296965,\n",
              " 4347.528969364694,\n",
              " 3279.6203146563576,\n",
              " 3113.0582196500814,\n",
              " 2788.8980931492183,\n",
              " 2420.669321572092,\n",
              " 3551.241156107943,\n",
              " 2660.3237390751588,\n",
              " 7962.977822612653,\n",
              " 4040.116240188307,\n",
              " 4390.110648233034,\n",
              " 2558.551746211871,\n",
              " 4335.262587640855,\n",
              " 3554.803383131563,\n",
              " 3439.7177972760423,\n",
              " 3612.8393075385025,\n",
              " 3749.827628759382,\n",
              " 2661.5648684265525,\n",
              " 3938.543703030958,\n",
              " 3488.473705095871,\n",
              " 4787.351018658819,\n",
              " 2426.3967778315696,\n",
              " 8134.785591666628,\n",
              " 2324.317032704574,\n",
              " 2552.707880765466,\n",
              " 2757.001779771385,\n",
              " 2982.5930399970216,\n",
              " 2826.562555941503,\n",
              " 2807.3881738743385,\n",
              " 5699.602615540707,\n",
              " 2242.230071368345,\n",
              " 6069.070587581358,\n",
              " 6393.054418633094,\n",
              " 5402.64019530247,\n",
              " 2500.806576610104,\n",
              " 3153.6218612103594,\n",
              " 4470.411724067126,\n",
              " 3485.7529606160433,\n",
              " 3036.561994033811,\n",
              " 2738.026116154017,\n",
              " 2325.9114411144715,\n",
              " 4324.496839575221,\n",
              " 3409.8099840856607,\n",
              " 3553.1863311938673,\n",
              " 2959.9357665004495,\n",
              " 5733.479506671262,\n",
              " 3441.898478412058,\n",
              " 5069.113270831532,\n",
              " 2725.475238120513,\n",
              " 3017.1167229775792,\n",
              " 3604.670942360717,\n",
              " 4598.084055410632,\n",
              " 2876.5863410460483,\n",
              " 6966.904061849018,\n",
              " 3558.8162584247666,\n",
              " 3804.2541016206237,\n",
              " 2468.3446748862852,\n",
              " 7160.965929883731,\n",
              " 6740.6901117276175,\n",
              " 2824.5723826487924,\n",
              " 3456.8426946425793,\n",
              " 3007.6252823325676,\n",
              " 5155.959865044821,\n",
              " 5135.872514131529,\n",
              " 6550.743272482501,\n",
              " 4350.916187667959,\n",
              " ...]"
            ]
          },
          "metadata": {
            "tags": []
          },
          "execution_count": 3
        }
      ]
    },
    {
      "cell_type": "code",
      "metadata": {
        "id": "YUMxTucIgEXD",
        "colab_type": "code",
        "colab": {
          "base_uri": "https://localhost:8080/",
          "height": 34
        },
        "outputId": "56147cb3-44d5-450a-e7bc-37d276e5b8ee"
      },
      "source": [
        "np.mean(data)\n"
      ],
      "execution_count": null,
      "outputs": [
        {
          "output_type": "execute_result",
          "data": {
            "text/plain": [
              "3985.500534677319"
            ]
          },
          "metadata": {
            "tags": []
          },
          "execution_count": 4
        }
      ]
    },
    {
      "cell_type": "code",
      "metadata": {
        "id": "9JCVzCXGgGpq",
        "colab_type": "code",
        "colab": {
          "base_uri": "https://localhost:8080/",
          "height": 34
        },
        "outputId": "f2be7ae8-ee3f-4a92-ecca-242a33b6f9ef"
      },
      "source": [
        "np.median(data)\n"
      ],
      "execution_count": null,
      "outputs": [
        {
          "output_type": "execute_result",
          "data": {
            "text/plain": [
              "3555.9236830643654"
            ]
          },
          "metadata": {
            "tags": []
          },
          "execution_count": 5
        }
      ]
    },
    {
      "cell_type": "code",
      "metadata": {
        "id": "Y2J2TaXfgItb",
        "colab_type": "code",
        "colab": {
          "base_uri": "https://localhost:8080/",
          "height": 34
        },
        "outputId": "cd2ef3c9-f94a-4615-817c-c7c92a169efe"
      },
      "source": [
        "np.std(data)\n"
      ],
      "execution_count": null,
      "outputs": [
        {
          "output_type": "execute_result",
          "data": {
            "text/plain": [
              "1493.719719451889"
            ]
          },
          "metadata": {
            "tags": []
          },
          "execution_count": 6
        }
      ]
    },
    {
      "cell_type": "code",
      "metadata": {
        "id": "Lp0cjJGUgLDb",
        "colab_type": "code",
        "colab": {
          "base_uri": "https://localhost:8080/",
          "height": 34
        },
        "outputId": "b254d09c-776a-480b-abdb-d61eeec1c1be"
      },
      "source": [
        "np.max(data)\n"
      ],
      "execution_count": null,
      "outputs": [
        {
          "output_type": "execute_result",
          "data": {
            "text/plain": [
              "10643.686529223805"
            ]
          },
          "metadata": {
            "tags": []
          },
          "execution_count": 7
        }
      ]
    },
    {
      "cell_type": "code",
      "metadata": {
        "id": "tKUUzx5ZgM64",
        "colab_type": "code",
        "colab": {
          "base_uri": "https://localhost:8080/",
          "height": 34
        },
        "outputId": "657147d8-fe32-45cd-f62a-681ae3548a04"
      },
      "source": [
        "np.min(data)\n"
      ],
      "execution_count": null,
      "outputs": [
        {
          "output_type": "execute_result",
          "data": {
            "text/plain": [
              "2101.3274987424575"
            ]
          },
          "metadata": {
            "tags": []
          },
          "execution_count": 8
        }
      ]
    },
    {
      "cell_type": "code",
      "metadata": {
        "id": "KG7SsitDgOur",
        "colab_type": "code",
        "colab": {}
      },
      "source": [
        "d0 = 100\n",
        "g_mean = 0.05\n",
        "g_sd = 0.01\n",
        "\n",
        "data = []\n",
        "\n",
        "for x in range(10000):\n",
        "    g = sct.norm.ppf(random.uniform(0,1),loc=g_mean,scale=g_sd)\n",
        "    r = 0.10\n",
        "    d1 = d0*(1+g)\n",
        "    v0 = d1/(r-g)\n",
        "    data.append(v0)"
      ],
      "execution_count": null,
      "outputs": []
    },
    {
      "cell_type": "code",
      "metadata": {
        "id": "yAQSN5o9gSQL",
        "colab_type": "code",
        "colab": {
          "base_uri": "https://localhost:8080/",
          "height": 296
        },
        "outputId": "ab9ceeb2-d462-4a4b-e7c9-0b08ca5442ac"
      },
      "source": [
        "sns.distplot(data)\n",
        "plt.ylabel('Frequency')\n",
        "plt.xlabel('Market Value')"
      ],
      "execution_count": null,
      "outputs": [
        {
          "output_type": "execute_result",
          "data": {
            "text/plain": [
              "Text(0.5, 0, 'Market Value')"
            ]
          },
          "metadata": {
            "tags": []
          },
          "execution_count": 10
        },
        {
          "output_type": "display_data",
          "data": {
            "image/png": "[encoded data removed]",
            "text/plain": [
              "<Figure size 432x288 with 1 Axes>"
            ]
          },
          "metadata": {
            "tags": [],
            "needs_background": "light"
          }
        }
      ]
    },
    {
      "cell_type": "code",
      "metadata": {
        "id": "W4Lx5Gd1gVxz",
        "colab_type": "code",
        "colab": {
          "base_uri": "https://localhost:8080/",
          "height": 34
        },
        "outputId": "62f84013-a559-4009-94e9-0e05490af1d8"
      },
      "source": [
        "np.mean(data)\n"
      ],
      "execution_count": null,
      "outputs": [
        {
          "output_type": "execute_result",
          "data": {
            "text/plain": [
              "2206.3081550861407"
            ]
          },
          "metadata": {
            "tags": []
          },
          "execution_count": 11
        }
      ]
    },
    {
      "cell_type": "code",
      "metadata": {
        "id": "KIYtvX9-iHPI",
        "colab_type": "code",
        "colab": {
          "base_uri": "https://localhost:8080/",
          "height": 34
        },
        "outputId": "7d68cf94-174b-4a2a-bc01-a7f2bceb8a56"
      },
      "source": [
        "np.median(data)\n"
      ],
      "execution_count": null,
      "outputs": [
        {
          "output_type": "execute_result",
          "data": {
            "text/plain": [
              "2103.09087149883"
            ]
          },
          "metadata": {
            "tags": []
          },
          "execution_count": 12
        }
      ]
    },
    {
      "cell_type": "code",
      "metadata": {
        "id": "oaAIsZTQiJOQ",
        "colab_type": "code",
        "colab": {
          "base_uri": "https://localhost:8080/",
          "height": 34
        },
        "outputId": "b910326e-19e5-4683-f376-258de74e7dff"
      },
      "source": [
        "np.std(data)\n"
      ],
      "execution_count": null,
      "outputs": [
        {
          "output_type": "execute_result",
          "data": {
            "text/plain": [
              "544.3652385200785"
            ]
          },
          "metadata": {
            "tags": []
          },
          "execution_count": 13
        }
      ]
    },
    {
      "cell_type": "code",
      "metadata": {
        "id": "WfqRuMqfiK5R",
        "colab_type": "code",
        "colab": {
          "base_uri": "https://localhost:8080/",
          "height": 34
        },
        "outputId": "22e78628-57e1-4a66-b026-894350960fa4"
      },
      "source": [
        "np.max(data)\n"
      ],
      "execution_count": null,
      "outputs": [
        {
          "output_type": "execute_result",
          "data": {
            "text/plain": [
              "7519.1029420654495"
            ]
          },
          "metadata": {
            "tags": []
          },
          "execution_count": 14
        }
      ]
    },
    {
      "cell_type": "code",
      "metadata": {
        "id": "kHAL2g_OiMbi",
        "colab_type": "code",
        "colab": {
          "base_uri": "https://localhost:8080/",
          "height": 34
        },
        "outputId": "afafc391-64f0-4320-9013-aec9c504b631"
      },
      "source": [
        "np.min(data)\n"
      ],
      "execution_count": null,
      "outputs": [
        {
          "output_type": "execute_result",
          "data": {
            "text/plain": [
              "1223.4910222445333"
            ]
          },
          "metadata": {
            "tags": []
          },
          "execution_count": 15
        }
      ]
    },
    {
      "cell_type": "markdown",
      "metadata": {
        "id": "0gWzxwxciSNC",
        "colab_type": "text"
      },
      "source": [
        "H-Model\n",
        "$$V_0 = \\frac{D_0(1 + g_L)}{r - g_L} + \\frac{D_0H(g_S - g_L)}{r - g_L}$$\n",
        "$$V_0 = \\frac{D_0(1 + g_L) + D_0H(g_S - g_L)}{r - g_L}$$"
      ]
    },
    {
      "cell_type": "code",
      "metadata": {
        "id": "ZF6jw0uNiOcK",
        "colab_type": "code",
        "colab": {}
      },
      "source": [
        "d0 = 163\n",
        "gL_mean = 0.025\n",
        "gL_sd = 0.00001\n",
        "gS_mean = -0.05\n",
        "gS_sd = 0.00001\n",
        "r = 0.08\n",
        "n = 10\n",
        "H = n/2\n",
        "\n",
        "data = []\n",
        "\n",
        "for x in range(10000):\n",
        "    gL = sct.norm.ppf(random.uniform(0,1),loc=gL_mean,scale=gL_sd)\n",
        "    gS = sct.norm.ppf(random.uniform(0,1),loc=gS_mean,scale=gS_sd)\n",
        "\n",
        "    vS = (d0*H*(gS-gL))/(r-gL)\n",
        "    vL = (d0*(1+gL))/(r-gL)\n",
        "    v0 = vS + vL\n",
        "    data.append(v0)"
      ],
      "execution_count": null,
      "outputs": []
    },
    {
      "cell_type": "code",
      "metadata": {
        "id": "o8ld23Hjia0n",
        "colab_type": "code",
        "colab": {
          "base_uri": "https://localhost:8080/",
          "height": 296
        },
        "outputId": "fa98377f-8eb1-4207-fd50-40a4cb6b782b"
      },
      "source": [
        "sns.distplot(data)\n",
        "plt.ylabel('Frequency')\n",
        "plt.xlabel('Market Value')"
      ],
      "execution_count": null,
      "outputs": [
        {
          "output_type": "execute_result",
          "data": {
            "text/plain": [
              "Text(0.5, 0, 'Market Value')"
            ]
          },
          "metadata": {
            "tags": []
          },
          "execution_count": 17
        },
        {
          "output_type": "display_data",
          "data": {
            "image/png": "[encoded data removed]",
            "text/plain": [
              "<Figure size 432x288 with 1 Axes>"
            ]
          },
          "metadata": {
            "tags": [],
            "needs_background": "light"
          }
        }
      ]
    },
    {
      "cell_type": "code",
      "metadata": {
        "id": "lbtHmJqOieIr",
        "colab_type": "code",
        "colab": {
          "base_uri": "https://localhost:8080/",
          "height": 34
        },
        "outputId": "5a07ab46-8e59-4388-9e5a-6df6d81157aa"
      },
      "source": [
        "np.mean(data)\n"
      ],
      "execution_count": null,
      "outputs": [
        {
          "output_type": "execute_result",
          "data": {
            "text/plain": [
              "1926.3652812743262"
            ]
          },
          "metadata": {
            "tags": []
          },
          "execution_count": 18
        }
      ]
    },
    {
      "cell_type": "code",
      "metadata": {
        "id": "jEzsufsxigTj",
        "colab_type": "code",
        "colab": {
          "base_uri": "https://localhost:8080/",
          "height": 34
        },
        "outputId": "fab073f9-df33-428b-d6cb-4d2200152eff"
      },
      "source": [
        "np.std(data)\n"
      ],
      "execution_count": null,
      "outputs": [
        {
          "output_type": "execute_result",
          "data": {
            "text/plain": [
              "0.2737198255074576"
            ]
          },
          "metadata": {
            "tags": []
          },
          "execution_count": 19
        }
      ]
    },
    {
      "cell_type": "code",
      "metadata": {
        "id": "MGQrp-Xlih_D",
        "colab_type": "code",
        "colab": {
          "base_uri": "https://localhost:8080/",
          "height": 34
        },
        "outputId": "14d23847-088c-4525-9f46-33fc0dc84733"
      },
      "source": [
        "np.max(data)\n"
      ],
      "execution_count": null,
      "outputs": [
        {
          "output_type": "execute_result",
          "data": {
            "text/plain": [
              "1927.6997769085099"
            ]
          },
          "metadata": {
            "tags": []
          },
          "execution_count": 20
        }
      ]
    },
    {
      "cell_type": "code",
      "metadata": {
        "id": "UwkXpSmQijic",
        "colab_type": "code",
        "colab": {
          "base_uri": "https://localhost:8080/",
          "height": 34
        },
        "outputId": "cc9498ee-7065-43ee-9cbe-6906a550b3b0"
      },
      "source": [
        "np.min(data)\n"
      ],
      "execution_count": null,
      "outputs": [
        {
          "output_type": "execute_result",
          "data": {
            "text/plain": [
              "1925.353287877415"
            ]
          },
          "metadata": {
            "tags": []
          },
          "execution_count": 21
        }
      ]
    },
    {
      "cell_type": "markdown",
      "metadata": {
        "id": "wnSK4Ey1ioSx",
        "colab_type": "text"
      },
      "source": [
        "###3 Stage Model\n"
      ]
    },
    {
      "cell_type": "code",
      "metadata": {
        "id": "B-za45qJiuRz",
        "colab_type": "code",
        "colab": {
          "base_uri": "https://localhost:8080/",
          "height": 296
        },
        "outputId": "9519e8aa-fabe-432c-b5a6-4d6b37c9f3fc"
      },
      "source": [
        "d0 = 163\n",
        "gL_mean = 0.025\n",
        "gL_sd = 0.00001\n",
        "gS1_mean = -0.05\n",
        "gS1_sd = 0.00001\n",
        "gS2_mean = 0.025\n",
        "gS2_sd = 0.00001\n",
        "\n",
        "r = 0.08\n",
        "n = 10\n",
        "H = n/2\n",
        "\n",
        "data = []\n",
        "\n",
        "for x in range(10000):\n",
        "    gL = sct.norm.ppf(random.uniform(0,1),loc=gL_mean,scale=gL_sd)\n",
        "    gS1 = sct.norm.ppf(random.uniform(0,1),loc=gS_mean,scale=gS_sd)\n",
        "    gS2 = sct.norm.ppf(random.uniform(0,1),loc=gS2_mean,scale=gS2_sd)\n",
        "    \n",
        "    d1 = d0*(1+gS1)\n",
        "    \n",
        "    v1 = (d1)/(1+r)\n",
        "    \n",
        "    vS = (d1*H*(gS2-gL))/(r-gL)\n",
        "    \n",
        "    vL = (d1*(1+gL))/(r-gL)\n",
        "    \n",
        "    v2 = (vS + vL)/(1+r)\n",
        "    \n",
        "    v0 = v1 + v2\n",
        "    data.append(v0)\n",
        "    \n",
        "sns.distplot(data)\n",
        "plt.ylabel('Frequency')\n",
        "plt.xlabel('Market Value')"
      ],
      "execution_count": null,
      "outputs": [
        {
          "output_type": "execute_result",
          "data": {
            "text/plain": [
              "Text(0.5, 0, 'Market Value')"
            ]
          },
          "metadata": {
            "tags": []
          },
          "execution_count": 22
        },
        {
          "output_type": "display_data",
          "data": {
            "image/png": "[encoded data removed]",
            "text/plain": [
              "<Figure size 432x288 with 1 Axes>"
            ]
          },
          "metadata": {
            "tags": [],
            "needs_background": "light"
          }
        }
      ]
    },
    {
      "cell_type": "code",
      "metadata": {
        "id": "AdqdO2UKi2ae",
        "colab_type": "code",
        "colab": {
          "base_uri": "https://localhost:8080/",
          "height": 34
        },
        "outputId": "5597f333-4f18-4f77-f6a0-5257a03e2744"
      },
      "source": [
        "np.mean(data)\n"
      ],
      "execution_count": null,
      "outputs": [
        {
          "output_type": "execute_result",
          "data": {
            "text/plain": [
              "2815.4510563398944"
            ]
          },
          "metadata": {
            "tags": []
          },
          "execution_count": 23
        }
      ]
    },
    {
      "cell_type": "code",
      "metadata": {
        "id": "VktIr0e1i5LV",
        "colab_type": "code",
        "colab": {
          "base_uri": "https://localhost:8080/",
          "height": 34
        },
        "outputId": "1d434922-859e-41c0-db1f-74688e9f7de9"
      },
      "source": [
        "np.std(data)\n"
      ],
      "execution_count": null,
      "outputs": [
        {
          "output_type": "execute_result",
          "data": {
            "text/plain": [
              "0.3985340941076607"
            ]
          },
          "metadata": {
            "tags": []
          },
          "execution_count": 24
        }
      ]
    },
    {
      "cell_type": "code",
      "metadata": {
        "id": "hZz-Oc4Ai6r1",
        "colab_type": "code",
        "colab": {
          "base_uri": "https://localhost:8080/",
          "height": 34
        },
        "outputId": "d69e75bb-5f45-4099-c954-9f2a6d36ea3c"
      },
      "source": [
        "np.max(data)\n"
      ],
      "execution_count": null,
      "outputs": [
        {
          "output_type": "execute_result",
          "data": {
            "text/plain": [
              "2817.052067252672"
            ]
          },
          "metadata": {
            "tags": []
          },
          "execution_count": 25
        }
      ]
    },
    {
      "cell_type": "code",
      "metadata": {
        "id": "yVGfj7uxi8Om",
        "colab_type": "code",
        "colab": {
          "base_uri": "https://localhost:8080/",
          "height": 34
        },
        "outputId": "4dbfe929-634e-496d-a1c0-17fc48c80c2f"
      },
      "source": [
        "np.min(data)\n"
      ],
      "execution_count": null,
      "outputs": [
        {
          "output_type": "execute_result",
          "data": {
            "text/plain": [
              "2813.9910024113337"
            ]
          },
          "metadata": {
            "tags": []
          },
          "execution_count": 26
        }
      ]
    },
    {
      "cell_type": "code",
      "metadata": {
        "id": "AgqM33Tti9jN",
        "colab_type": "code",
        "colab": {}
      },
      "source": [
        ""
      ],
      "execution_count": null,
      "outputs": []
    }
  ]
}